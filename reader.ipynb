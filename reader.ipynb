{
 "cells": [
  {
   "cell_type": "code",
   "execution_count": null,
   "metadata": {},
   "outputs": [],
   "source": [
    "!pip install tesseract pytesseract opencv-python tesserocr  python-Levenshtein gspread oauth2client"
   ]
  },
  {
   "cell_type": "code",
   "execution_count": 1,
   "metadata": {},
   "outputs": [],
   "source": [
    "from PIL import Image\n",
    "import cv2\n",
    "import pytesseract\n",
    "from pathlib import Path\n",
    "import glob\n",
    "import numpy as np\n",
    "import json\n",
    "import gspread\n",
    "from oauth2client.service_account import ServiceAccountCredentials\n",
    "\n",
    "pytesseract.pytesseract.tesseract_cmd = \".\\\\tesseract\\\\tesseract.exe\""
   ]
  },
  {
   "cell_type": "code",
   "execution_count": 2,
   "metadata": {},
   "outputs": [],
   "source": [
    "IMG_FOLDER_PATH = r'C:\\Users\\Azazel\\Desktop\\projekte\\fallout\\screenshots' + \"\\\\\"\n",
    "effects_path = \".\\\\effects.json\"\n",
    "weapon_types_path = \".\\\\weapon types.json\"\n",
    "google_api_file_path = \".\\\\FalloutReader-979156523830.json\"\n",
    "sheet_name = \"testsheet\""
   ]
  },
  {
   "cell_type": "code",
   "execution_count": 18,
   "metadata": {},
   "outputs": [],
   "source": [
    "images = [x for x in glob.glob(IMG_FOLDER_PATH + \"*.png\")]\n",
    "descriptions = []\n",
    "weapon_types = []\n",
    "with open (effects_path,encoding=\"utf8\") as f:\n",
    "    j = json.load(f)\n",
    "    descriptions = list(j.items())\n",
    "with open (weapon_types_path,encoding=\"utf8\") as f:\n",
    "    j = json.load(f)\n",
    "    weapon_types = list(j.items())"
   ]
  },
  {
   "cell_type": "code",
   "execution_count": 42,
   "metadata": {},
   "outputs": [],
   "source": [
    "scope = ['https://spreadsheets.google.com/feeds','https://www.googleapis.com/auth/drive']\n",
    "creds = ServiceAccountCredentials.from_json_keyfile_name(google_api_file_path, scope)\n",
    "client = gspread.authorize(creds)\n",
    "sheet = client.open(sheet_name).sheet1\n",
    "ids = sheet.col_values(1)[1:]"
   ]
  },
  {
   "cell_type": "code",
   "execution_count": 19,
   "metadata": {},
   "outputs": [],
   "source": [
    "def expand_image(img):\n",
    "    old_size = img.size\n",
    "    new_size = (100, 100)\n",
    "    new_im = Image.new(\"RGB\", new_size, (255, 255, 255))\n",
    "    new_im.paste(img, (int((new_size[0]-old_size[0])/2),\n",
    "                          int((new_size[1]-old_size[1])/2)))\n",
    "    return new_im"
   ]
  },
  {
   "cell_type": "code",
   "execution_count": 20,
   "metadata": {},
   "outputs": [],
   "source": [
    "def read_int(img, fl=False):\n",
    "    img = expand_image(img)\n",
    "    return pytesseract.image_to_string(img, lang = 'deu', config='--psm 6 -c tessedit_char_whitelist=0123456789' + (\".,\" if fl  else \"\")).strip()"
   ]
  },
  {
   "cell_type": "code",
   "execution_count": 21,
   "metadata": {},
   "outputs": [],
   "source": [
    "from matplotlib.pyplot import imshow\n",
    "import numpy as np\n",
    "def read_statistics(cropped_img):\n",
    "    level = cropped_img.crop((70,40,110,85))\n",
    "    dmg = cropped_img.crop((236,110,290,160))\n",
    "    firerate = cropped_img.crop((210,180,290,230))\n",
    "    _range = cropped_img.crop((210,220,290,260))\n",
    "    precision = cropped_img.crop((236,260,285,295))\n",
    "    weight = cropped_img.crop((215,290,290,340))\n",
    "    level = read_int(level)\n",
    "    dmg = read_int(dmg)\n",
    "    firerate = read_int(firerate)\n",
    "    _range =read_int(_range)\n",
    "    precision = read_int(precision)\n",
    "    #weight =  read_int(weight)\n",
    "    #weight = float(int(weight.replace(\" \", \"\"))/10)\n",
    "    return level,dmg,firerate,_range,precision,weight\n"
   ]
  },
  {
   "cell_type": "code",
   "execution_count": 22,
   "metadata": {},
   "outputs": [],
   "source": [
    "def read_sentence(crop):\n",
    "    return pytesseract.image_to_string(crop, lang = 'deu', config=r'-c load_system_dawg=false -c load_freq_dawg=false --user-words C:\\Users\\Azazel\\Desktop\\projekte\\fallout\\tesseract\\tessdata\\deu.user-words')"
   ]
  },
  {
   "cell_type": "code",
   "execution_count": 23,
   "metadata": {},
   "outputs": [],
   "source": [
    "def read_name(cropped_image):\n",
    "    name_as_pixels = np.array(cropped_image)\n",
    "    x,y, c = name_as_pixels.shape\n",
    "    for i in range(0,x):\n",
    "        for j in range(0,y):\n",
    "            pixel = name_as_pixels[i][j]\n",
    "            diff = np.absolute(pixel - [244, 202,  91])\n",
    "            if np.all(diff < 5):\n",
    "                name_as_pixels[i][j] = [0,0,0]\n",
    "            else:\n",
    "                name_as_pixels[i][j] = [255,255,255]\n",
    "    clean_name = Image.fromarray(name_as_pixels)\n",
    "    line = read_sentence(clean_name)\n",
    "    for n,v in weapon_types:\n",
    "        if n in line:\n",
    "            return v\n",
    "    return \"not recognized\""
   ]
  },
  {
   "cell_type": "code",
   "execution_count": 24,
   "metadata": {},
   "outputs": [
    {
     "data": {
      "application/vnd.jupyter.widget-view+json": {
       "model_id": "4bf9088edca74fa183ca272d7ac16104",
       "version_major": 2,
       "version_minor": 0
      },
      "text/plain": [
       "HBox(children=(IntProgress(value=0, max=20), HTML(value='')))"
      ]
     },
     "metadata": {},
     "output_type": "display_data"
    },
    {
     "name": "stdout",
     "output_type": "stream",
     "text": [
      "\n"
     ]
    }
   ],
   "source": [
    "from Levenshtein import distance\n",
    "from tqdm import tqdm_notebook as tqdm\n",
    "import PIL.ImageOps \n",
    "results = []\n",
    "for image in tqdm(images):\n",
    "    _id = Path(image).stem.replace(\"ScreenShot\", \"\")\n",
    "    img = Image.open(image)\n",
    "    name = img.crop((500,40,1330,85))\n",
    "    thresh = 225\n",
    "    fn = lambda x : 255 if x > thresh else 0\n",
    "    img = img.convert('L').point(fn, mode='1')\n",
    "    img = PIL.ImageOps.invert(img.convert('L'))\n",
    "    statistics = img.crop((310,520,600,930))\n",
    "    level = read_statistics(statistics)[0]\n",
    "    weapon_type = read_name(name)\n",
    "    effects1 = img.crop((520,75,1360,115))\n",
    "    effects2 = img.crop((520,110,1360,145))\n",
    "    effects3 = img.crop((520,145,1360,180))\n",
    "    sentences = [read_sentence(effects1),read_sentence(effects2),read_sentence(effects3)]\n",
    "    sentences = [s for s in sentences if len(s.strip()) > 0]\n",
    "    effects = []\n",
    "    for s in sentences:\n",
    "        for d,v in descriptions:\n",
    "            edit_dist = distance(d, s)\n",
    "            if edit_dist < 5:\n",
    "                effects.append(v)\n",
    "    results.append((_id,level,len(effects),weapon_type, effects))"
   ]
  },
  {
   "cell_type": "code",
   "execution_count": 29,
   "metadata": {},
   "outputs": [
    {
     "name": "stdout",
     "output_type": "stream",
     "text": [
      "[['test', 'test2']]\n"
     ]
    }
   ],
   "source": [
    "#print(sheet.get_all_values())"
   ]
  },
  {
   "cell_type": "code",
   "execution_count": 31,
   "metadata": {},
   "outputs": [
    {
     "ename": "AttributeError",
     "evalue": "'list' object has no attribute 'setBackgrounds'",
     "output_type": "error",
     "traceback": [
      "\u001b[1;31m---------------------------------------------------------------------------\u001b[0m",
      "\u001b[1;31mAttributeError\u001b[0m                            Traceback (most recent call last)",
      "\u001b[1;32m<ipython-input-31-ce67c873b71e>\u001b[0m in \u001b[0;36m<module>\u001b[1;34m\u001b[0m\n\u001b[0;32m      6\u001b[0m     \u001b[1;32mif\u001b[0m \u001b[0mweapon_type\u001b[0m \u001b[1;33m==\u001b[0m \u001b[1;34m\"not recognized\"\u001b[0m\u001b[1;33m:\u001b[0m\u001b[1;33m\u001b[0m\u001b[1;33m\u001b[0m\u001b[0m\n\u001b[0;32m      7\u001b[0m         \u001b[0mcell\u001b[0m \u001b[1;33m=\u001b[0m \u001b[0msheet\u001b[0m\u001b[1;33m.\u001b[0m\u001b[0mrange\u001b[0m\u001b[1;33m(\u001b[0m\u001b[1;34mf\"D{i}:D{i}\"\u001b[0m\u001b[1;33m)\u001b[0m\u001b[1;33m;\u001b[0m\u001b[1;33m\u001b[0m\u001b[1;33m\u001b[0m\u001b[0m\n\u001b[1;32m----> 8\u001b[1;33m         \u001b[0mcell\u001b[0m\u001b[1;33m.\u001b[0m\u001b[0msetBackgrounds\u001b[0m\u001b[1;33m(\u001b[0m\u001b[1;34m\"red\"\u001b[0m\u001b[1;33m)\u001b[0m\u001b[1;33m;\u001b[0m\u001b[1;33m\u001b[0m\u001b[1;33m\u001b[0m\u001b[0m\n\u001b[0m",
      "\u001b[1;31mAttributeError\u001b[0m: 'list' object has no attribute 'setBackgrounds'"
     ]
    }
   ],
   "source": [
    "for i,(_id,level,stars,weapon_type, effects) in enumerate(results,2):\n",
    "    ef = \", \".join(effects)\n",
    "    row = [_id, level, len(effects), weapon_type, ef]\n",
    "    row = [str(c) for c in row]\n",
    "    sheet.insert_row(row, i)"
   ]
  },
  {
   "cell_type": "code",
   "execution_count": 41,
   "metadata": {},
   "outputs": [],
   "source": [
    "def delete_rows():\n",
    "    row_count = len(sheet.col_values(1))\n",
    "    for i in range(2,row_count+3):\n",
    "        sheet.delete_row(i)"
   ]
  },
  {
   "cell_type": "markdown",
   "metadata": {},
   "source": [
    "# TODO\n",
    "* Ids aus sheet auslesen und bei exists nicht erneut lesen\n",
    "* Berechnung parallelisieren\n"
   ]
  },
  {
   "cell_type": "code",
   "execution_count": null,
   "metadata": {},
   "outputs": [],
   "source": []
  }
 ],
 "metadata": {
  "kernelspec": {
   "display_name": "Python 3",
   "language": "python",
   "name": "python3"
  },
  "language_info": {
   "codemirror_mode": {
    "name": "ipython",
    "version": 3
   },
   "file_extension": ".py",
   "mimetype": "text/x-python",
   "name": "python",
   "nbconvert_exporter": "python",
   "pygments_lexer": "ipython3",
   "version": "3.7.3"
  }
 },
 "nbformat": 4,
 "nbformat_minor": 2
}
