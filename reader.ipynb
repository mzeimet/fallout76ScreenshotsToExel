{
 "cells": [
  {
   "cell_type": "code",
   "execution_count": null,
   "metadata": {},
   "outputs": [],
   "source": [
    "!pip install tesseract pytesseract opencv-python tesserocr  python-Levenshtein gspread oauth2client"
   ]
  },
  {
   "cell_type": "code",
   "execution_count": 12,
   "metadata": {},
   "outputs": [],
   "source": [
    "from PIL import Image\n",
    "import cv2\n",
    "import pytesseract\n",
    "from pathlib import Path\n",
    "import glob\n",
    "import numpy as np\n",
    "import json\n",
    "import gspread\n",
    "from oauth2client.service_account import ServiceAccountCredentials\n",
    "\n",
    "pytesseract.pytesseract.tesseract_cmd = \".\\\\tesseract\\\\tesseract.exe\""
   ]
  },
  {
   "cell_type": "code",
   "execution_count": 133,
   "metadata": {},
   "outputs": [],
   "source": [
    "CONFIG_PATH = \"C:\\\\Users\\\\Azazel\\\\Desktop\\\\projekte\\\\fallout\\\\config.json\"\n",
    "with open(CONFIG_PATH, encoding=\"utf8\") as f:\n",
    "    j = json.load(f)\n",
    "    sheet_name = j[\"google_sheet_name\"]\n",
    "    IMG_FOLDER_PATH = j[\"screenshot_folder_path\"]\n",
    "    google_api_file_path = j[\"google_api_file_path\"]\n",
    "    effects = j[\"effects\"]\n",
    "    weapons = j[\"weapons\"]\n",
    "    effect_mod_type_order = { t:i for i,t in enumerate(j[\"effect_mod_type_order\"])}\n",
    "    word_file_path = j[\"word_file_path\"]\n",
    "    sheet_distance_between_ranged_and_melee = j[\"sheet_distance_between_ranged_and_melee\"]\n",
    "images = [x for x in glob.glob(IMG_FOLDER_PATH + \"*.png\")]"
   ]
  },
  {
   "cell_type": "code",
   "execution_count": 102,
   "metadata": {},
   "outputs": [],
   "source": [
    "scope = ['https://spreadsheets.google.com/feeds','https://www.googleapis.com/auth/drive']\n",
    "creds = ServiceAccountCredentials.from_json_keyfile_name(google_api_file_path, scope)\n",
    "client = gspread.authorize(creds)\n",
    "sheet = client.open(sheet_name).sheet1\n",
    "ids = sheet.col_values(1)[1:]"
   ]
  },
  {
   "cell_type": "code",
   "execution_count": 28,
   "metadata": {},
   "outputs": [],
   "source": [
    "def expand_image(img):\n",
    "    old_size = img.size\n",
    "    new_size = (100, 100)\n",
    "    new_im = Image.new(\"RGB\", new_size, (255, 255, 255))\n",
    "    new_im.paste(img, (int((new_size[0]-old_size[0])/2),\n",
    "                          int((new_size[1]-old_size[1])/2)))\n",
    "    return new_im"
   ]
  },
  {
   "cell_type": "code",
   "execution_count": 29,
   "metadata": {},
   "outputs": [],
   "source": [
    "def read_int(img, fl=False):\n",
    "    img = expand_image(img)\n",
    "    return pytesseract.image_to_string(img, lang = 'deu', config='--psm 6 -c tessedit_char_whitelist=0123456789' + (\".,\" if fl  else \"\")).strip()"
   ]
  },
  {
   "cell_type": "code",
   "execution_count": 30,
   "metadata": {},
   "outputs": [],
   "source": [
    "from matplotlib.pyplot import imshow\n",
    "import numpy as np\n",
    "def read_statistics(cropped_img):\n",
    "    level = cropped_img.crop((70,40,110,85))\n",
    "    dmg = cropped_img.crop((236,110,290,160))\n",
    "    firerate = cropped_img.crop((210,180,290,230))\n",
    "    _range = cropped_img.crop((210,220,290,260))\n",
    "    precision = cropped_img.crop((236,260,285,295))\n",
    "    weight = cropped_img.crop((215,290,290,340))\n",
    "    level = read_int(level)\n",
    "    dmg = read_int(dmg)\n",
    "    firerate = read_int(firerate)\n",
    "    _range =read_int(_range)\n",
    "    precision = read_int(precision)\n",
    "    #weight =  read_int(weight)\n",
    "    #weight = float(int(weight.replace(\" \", \"\"))/10)\n",
    "    return level,dmg,firerate,_range,precision,weight\n"
   ]
  },
  {
   "cell_type": "code",
   "execution_count": 31,
   "metadata": {},
   "outputs": [],
   "source": [
    "def read_sentence(crop):\n",
    "    return pytesseract.image_to_string(crop, lang = 'deu', config=f\"-c load_system_dawg=false -c load_freq_dawg=false --user-words {word_file_path}\")"
   ]
  },
  {
   "cell_type": "code",
   "execution_count": 32,
   "metadata": {},
   "outputs": [],
   "source": [
    "def read_name(cropped_image):\n",
    "    name_as_pixels = np.array(cropped_image)\n",
    "    x,y, c = name_as_pixels.shape\n",
    "    for i in range(0,x):\n",
    "        for j in range(0,y):\n",
    "            pixel = name_as_pixels[i][j]\n",
    "            diff = np.absolute(pixel - [244, 202,  91])\n",
    "            if np.all(diff < 5):\n",
    "                name_as_pixels[i][j] = [0,0,0]\n",
    "            else:\n",
    "                name_as_pixels[i][j] = [255,255,255]\n",
    "    clean_name = Image.fromarray(name_as_pixels)\n",
    "    line = read_sentence(clean_name)\n",
    "    for name,attributes in list(weapons.items()):\n",
    "        if name in line:\n",
    "            return attributes[\"translation\"], attributes[\"ranged\"]\n",
    "    return \"not recognized\", False"
   ]
  },
  {
   "cell_type": "code",
   "execution_count": 87,
   "metadata": {},
   "outputs": [
    {
     "data": {
      "application/vnd.jupyter.widget-view+json": {
       "model_id": "72ef6b4915c6418cb76c8421734ec7da",
       "version_major": 2,
       "version_minor": 0
      },
      "text/plain": [
       "HBox(children=(IntProgress(value=0, max=20), HTML(value='')))"
      ]
     },
     "metadata": {},
     "output_type": "display_data"
    },
    {
     "name": "stdout",
     "output_type": "stream",
     "text": [
      "\n"
     ]
    }
   ],
   "source": [
    "from Levenshtein import distance\n",
    "from tqdm import tqdm_notebook as tqdm\n",
    "import PIL.ImageOps \n",
    "results = []\n",
    "for image in tqdm(images):\n",
    "    _id = Path(image).stem.replace(\"ScreenShot\", \"\")\n",
    "    img = Image.open(image)\n",
    "    name = img.crop((500,40,1330,85))\n",
    "    thresh = 225\n",
    "    fn = lambda x : 255 if x > thresh else 0\n",
    "    img = img.convert('L').point(fn, mode='1')\n",
    "    img = PIL.ImageOps.invert(img.convert('L'))\n",
    "    statistics = img.crop((310,520,600,930))\n",
    "    level = read_statistics(statistics)[0]\n",
    "    weapon_type,ranged = read_name(name)\n",
    "    effects1 = img.crop((520,75,1360,115))\n",
    "    effects2 = img.crop((520,110,1360,145))\n",
    "    effects3 = img.crop((520,145,1360,180))\n",
    "    sentences = [read_sentence(effects1),read_sentence(effects2),read_sentence(effects3)]\n",
    "    sentences = [s for s in sentences if len(s.strip()) > 0]\n",
    "    results.append((_id,level, weapon_type, ranged, sentences))"
   ]
  },
  {
   "cell_type": "code",
   "execution_count": 89,
   "metadata": {},
   "outputs": [],
   "source": [
    "out = []\n",
    "for (_id,level, weapon_type, ranged,sentences) in results:\n",
    "    weapon_effects = []\n",
    "    for s in sentences:\n",
    "        for text, attributes in list(effects.items()):\n",
    "            edit_dist = distance(text, s)\n",
    "            if edit_dist < 5:\n",
    "                weapon_effects.append((attributes[\"translation\"], attributes[\"mod_type\"]))\n",
    "    out.append((_id,level,weapon_type, ranged, weapon_effects))"
   ]
  },
  {
   "cell_type": "code",
   "execution_count": 94,
   "metadata": {},
   "outputs": [],
   "source": [
    "def sort_effects(w_effects):\n",
    "    w_effects = [(text, mod_type, effect_mod_type_order[mod_type]) for text,mod_type in w_effects]\n",
    "    w_effects= sorted(w_effects, key=lambda element: (element[2]))\n",
    "    return [text for text, mod, order in w_effects]\n",
    "\n",
    "out = [(_id,level, weapon_type, ranged, sort_effects(weapon_effects)) for _id,level, weapon_type, ranged, weapon_effects in out]"
   ]
  },
  {
   "cell_type": "code",
   "execution_count": 98,
   "metadata": {},
   "outputs": [],
   "source": [
    "out = sorted(cpy,key = lambda e: e[4][0])"
   ]
  },
  {
   "cell_type": "code",
   "execution_count": 100,
   "metadata": {},
   "outputs": [
    {
     "data": {
      "text/plain": [
       "[('47',\n",
       "  '45',\n",
       "  'Minigun',\n",
       "  ['25% increased fire rate', '50 Damage resistance while aiming']),\n",
       " ('32',\n",
       "  '45',\n",
       "  'Ultracite gatling laser',\n",
       "  ['Anti-Armor', '25% increased fire rate', '15% faster reload']),\n",
       " ('36',\n",
       "  '50',\n",
       "  'Gatling plasma',\n",
       "  ['Anti-Armor', '25% increased fire rate', '1 Perception']),\n",
       " ('37', '50', 'LMG', ['Anti-Armor', 'Explosive']),\n",
       " ('38', '50', 'LMG', ['Anti-Armor', '25% increased fire rate']),\n",
       " ('39', '45', 'Pumpgun', ['Anti-Armor', 'Explosive']),\n",
       " ('40',\n",
       "  '45',\n",
       "  'Gamma gun',\n",
       "  ['Bloodied', 'VATS critical shots do +50% damage', '1 Perception']),\n",
       " ('41',\n",
       "  '45',\n",
       "  'Gamma gun',\n",
       "  ['Bloodied',\n",
       "   'VATS critical shots do +50% damage',\n",
       "   'Your VATS critical meter fills 15% faster']),\n",
       " ('42',\n",
       "  '45',\n",
       "  'Laser rifle',\n",
       "  ['Bloodied', '25% increased fire rate', '1 Agility']),\n",
       " ('48',\n",
       "  '45',\n",
       "  'Lever action rifle',\n",
       "  ['Explosive', '25% less VATS Action Point cost']),\n",
       " ('50', '50', 'Gatling gun', ['Furious', 'Explosive']),\n",
       " ('44',\n",
       "  '50',\n",
       "  'Combat rifle',\n",
       "  [\"Junkie's\", 'Explosive', '250 damage resistance while reloading']),\n",
       " ('51',\n",
       "  '45',\n",
       "  'Double-barrel shotgun',\n",
       "  ['Quad', 'Explosive', '25% less VATS Action Point cost']),\n",
       " ('31', '45', 'Handmade rifle', ['Two Shot', 'Explosive']),\n",
       " ('49',\n",
       "  '45',\n",
       "  'Lever action rifle',\n",
       "  ['Two Shot', 'Explosive', 'Move faster while aiming']),\n",
       " ('43',\n",
       "  '45',\n",
       "  'Handmade rifle',\n",
       "  [\"Zealot's\", 'Explosive', 'Your VATS critical meter fills 15% faster'])]"
      ]
     },
     "execution_count": 100,
     "metadata": {},
     "output_type": "execute_result"
    }
   ],
   "source": [
    "ranged = [(_id,level,weapon_type, weapon_effects) for (_id,level,weapon_type, ranged, weapon_effects) in out if ranged]\n",
    "melee = [(_id,level,weapon_type, weapon_effects) for (_id,level,weapon_type, ranged, weapon_effects) in out if not ranged]"
   ]
  },
  {
   "cell_type": "code",
   "execution_count": 143,
   "metadata": {},
   "outputs": [],
   "source": [
    "def delete_rows(range_start, melee_start):\n",
    "    for i in range(melee_start, melee_start + ( len(sheet_values) - melee_start) + 1):\n",
    "        sheet.delete_row(melee_start)\n",
    "    for i in range(range_start, melee_start -2 - sheet_distance_between_ranged_and_melee):\n",
    "        sheet.delete_row(range_start)"
   ]
  },
  {
   "cell_type": "code",
   "execution_count": 148,
   "metadata": {},
   "outputs": [],
   "source": [
    "sheet_values = sheet.get_all_values()\n",
    "ranged_start = 3\n",
    "melee_start = ranged_start + sheet_distance_between_ranged_and_melee + 2\n",
    "for i, row in enumerate(sheet_values, 1):\n",
    "    if row[0] == \"Ranged\":\n",
    "        ranged_start = i + 2\n",
    "    if row[0] == \"Melee\":\n",
    "        melee_start = i + 2\n",
    "delete_rows(ranged_start, melee_start)\n",
    "ranged_start = 3\n",
    "for i, (_id,level,weapon_type, weapon_effects) in enumerate(ranged):\n",
    "    row = [weapon_effects[0], weapon_effects[1] if len(weapon_effects) > 1 else \"\",  \\\n",
    "          weapon_effects[2] if len(weapon_effects) > 2 else \"\", weapon_type, level, \"\", \"\", _id]\n",
    "    row = [str(c) for c in row]\n",
    "    sheet.insert_row(row, ranged_start + i)\n",
    "    \n",
    "melee_start = ranged_start + sheet_distance_between_ranged_and_melee + 2 + len(ranged)\n",
    "\n",
    "for _id,level,weapon_type, weapon_effects in melee:\n",
    "    row = [weapon_effects[0], weapon_effects[1] if len(weapon_effects) > 1 else \"\",  \\\n",
    "          weapon_effects[2] if len(weapon_effects) > 2 else \"\", weapon_type, level, \"\", \"\", _id]\n",
    "    row = [str(c) for c in row]\n",
    "    sheet.insert_row(row, melee_start)\n",
    "    melee_start +=1"
   ]
  },
  {
   "cell_type": "markdown",
   "metadata": {},
   "source": [
    "# TODO\n",
    "* Ids aus sheet auslesen und bei exists nicht erneut lesen\n",
    "* Berechnung parallelisieren\n"
   ]
  },
  {
   "cell_type": "code",
   "execution_count": 145,
   "metadata": {},
   "outputs": [],
   "source": []
  }
 ],
 "metadata": {
  "kernelspec": {
   "display_name": "Python 3",
   "language": "python",
   "name": "python3"
  },
  "language_info": {
   "codemirror_mode": {
    "name": "ipython",
    "version": 3
   },
   "file_extension": ".py",
   "mimetype": "text/x-python",
   "name": "python",
   "nbconvert_exporter": "python",
   "pygments_lexer": "ipython3",
   "version": "3.7.3"
  }
 },
 "nbformat": 4,
 "nbformat_minor": 2
}
